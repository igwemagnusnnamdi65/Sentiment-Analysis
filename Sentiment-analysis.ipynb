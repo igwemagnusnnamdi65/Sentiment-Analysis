{
 "cells": [
  {
   "cell_type": "code",
   "execution_count": 2,
   "metadata": {},
   "outputs": [],
   "source": [
    "import tweepy\n",
    "from textblob import TextBlob\n"
   ]
  },
  {
   "cell_type": "code",
   "execution_count": 3,
   "metadata": {
    "collapsed": true
   },
   "outputs": [],
   "source": [
    "consumer_key = 'consumer_key_here',
    "consumer_secret = 'consumer_secret_here'
   ]
  },
  {
   "cell_type": "code",
   "execution_count": 4,
   "metadata": {
    "collapsed": true
   },
   "outputs": [],
   "source": [
    "access_token = 'access_token_here',
    "access_token_secret = 'access_token_secret_here'
   ]
  },
  {
   "cell_type": "code",
   "execution_count": 5,
   "metadata": {
    "collapsed": true
   },
   "outputs": [],
   "source": [
    "# Authentication variables in action!\n",
    "auth = tweepy.OAuthHandler(consumer_key,consumer_secret)\n",
    "auth.set_access_token(access_token,access_token_secret)"
   ]
  },
  {
   "cell_type": "code",
   "execution_count": 6,
   "metadata": {
    "collapsed": true
   },
   "outputs": [],
   "source": [
    "#Here create,delete tweets and find tweeter users\n",
    "api = tweepy.API(auth)"
   ]
  },
  {
   "cell_type": "code",
   "execution_count": 11,
   "metadata": {},
   "outputs": [],
   "source": [
    "# Search for tweets\n",
    "public_tweets = api.search('Trump')"
   ]
  },
  {
   "cell_type": "code",
   "execution_count": 9,
   "metadata": {},
   "outputs": [
    {
     "name": "stdout",
     "output_type": "stream",
     "text": [
      "RT @realDonaldTrump: Crazy Maxine Waters: “After we impeach Trump, we’ll go after Mike Pence. We’ll get him.”  @FoxNews  Where are the Demo…\n",
      "Sentiment(polarity=-0.6, subjectivity=0.9)\n",
      "@PhilipJWalsh @KTLA Love white trash in denial, Trump did that shit.\n",
      "Sentiment(polarity=0.09999999999999999, subjectivity=0.4666666666666666)\n",
      "RT @MaddowBlog: BREAKING: Document shows Trump admin took $10 million from FEMA, gave it to ICE for detentions, ahead of 2018 hurricane sea…\n",
      "Sentiment(polarity=0.0, subjectivity=0.0)\n",
      "Screaming at Donald Trump describing the hurricane”tremendously big and tremendously wet” WELL FUCKING DUUH YAH WEA… https://t.co/N4A3Oau6Zv\n",
      "Sentiment(polarity=-0.2333333333333333, subjectivity=0.43333333333333335)\n",
      "RT @BarbraStreisand: There are still over 400 kids under the federal government’s care, whose parents cannot be found. The Trump Administra…\n",
      "Sentiment(polarity=0.0, subjectivity=0.0)\n",
      "RT @sh_irredeemable: @Leelze32 @ericswalwell @PetersCongress @ACSOSheriffs @RepMaxineWaters Typical Goebbels tactic of \"accuse the other si…\n",
      "Sentiment(polarity=-0.14583333333333331, subjectivity=0.4375)\n",
      "RT @glam1diva: @DonaldJTrumpJr You mean like the time your broke-ass so called billionaire daddy decided to take $150K from FEDERAL funds i…\n",
      "Sentiment(polarity=-0.3125, subjectivity=0.6875)\n",
      "RT @JamesKosur: This is priceless. \n",
      "\n",
      "A group of residents is complaining in Washington D.C. that \"Trump International Hotel\" shouldn't have…\n",
      "Sentiment(polarity=0.5, subjectivity=0.5)\n",
      "Le président de la Commission défend l’accord qu’il a trouvé avec Trump sur le commerce international alors qu’une… https://t.co/dfAeX8jaI3\n",
      "Sentiment(polarity=0.0, subjectivity=0.0)\n",
      "Donald Trump's 'Red Wave' just isn't coming https://t.co/Fmz3yOux0a\n",
      "Sentiment(polarity=0.0, subjectivity=0.0)\n",
      "Interesting views - \n",
      "Why Beijing will sacrifice its middle class in trade war with Donald Trump\n",
      "  https://t.co/6D6mp120MI\n",
      "Sentiment(polarity=0.25, subjectivity=0.25)\n",
      "RT @RealMAGASteve: BREAKING: In a 5-3 decision the Supreme Court sided w/President Trump agreed public schools will NOT teach the tenets of…\n",
      "Sentiment(polarity=0.0, subjectivity=0.06666666666666667)\n",
      "RT @Sh4rin_Papito: País de tarados. Tiroteos cada dos por tres, te pegan putos tiros en tu casa, la policía te puede matar sin preguntar y…\n",
      "Sentiment(polarity=0.0, subjectivity=0.0)\n",
      "@weaponizedword1 @GeoffSchuler @carlsmythe @DescribeSWC @VeritasEver @mcfunny @erikwilson1975 @RightWingBlack2… https://t.co/NLvuEZKj4E\n",
      "Sentiment(polarity=0.0, subjectivity=0.0)\n",
      "RT @EdKrassen: All it took was a balloon of himself to scare President Trump away from London.  \n",
      "Yet some people still think that Trump has…\n",
      "Sentiment(polarity=0.0, subjectivity=0.0)\n"
     ]
    }
   ],
   "source": [
    "# for loops in action\n",
    "for tweet in public_tweets:\n",
    "    print(tweet.text)\n",
    "    analysis = TextBlob(tweet.text)\n",
    "    print(analysis.sentiment)\n",
    "    "
   ]
  },
  {
   "cell_type": "code",
   "execution_count": null,
   "metadata": {
    "collapsed": true
   },
   "outputs": [],
   "source": []
  },
  {
   "cell_type": "code",
   "execution_count": null,
   "metadata": {
    "collapsed": true
   },
   "outputs": [],
   "source": []
  }
 ],
 "metadata": {
  "kernelspec": {
   "display_name": "Python 3",
   "language": "python",
   "name": "python3"
  },
  "language_info": {
   "codemirror_mode": {
    "name": "ipython",
    "version": 3
   },
   "file_extension": ".py",
   "mimetype": "text/x-python",
   "name": "python",
   "nbconvert_exporter": "python",
   "pygments_lexer": "ipython3",
   "version": "3.6.3"
  }
 },
 "nbformat": 4,
 "nbformat_minor": 2
}
